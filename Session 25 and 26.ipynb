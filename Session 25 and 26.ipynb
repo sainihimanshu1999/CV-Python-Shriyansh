{
 "cells": [
  {
   "cell_type": "code",
   "execution_count": 1,
   "id": "9c02b3f4",
   "metadata": {},
   "outputs": [],
   "source": [
    "# lamda anonyms fucntion"
   ]
  },
  {
   "cell_type": "code",
   "execution_count": 2,
   "id": "3d2b0e5e",
   "metadata": {},
   "outputs": [],
   "source": [
    "def sqr(x):\n",
    "    return x*x"
   ]
  },
  {
   "cell_type": "code",
   "execution_count": 6,
   "id": "5ab42768",
   "metadata": {},
   "outputs": [],
   "source": [
    "sqr(56)\n",
    "nums = [1,2,3,4,5]"
   ]
  },
  {
   "cell_type": "code",
   "execution_count": 10,
   "id": "dc697150",
   "metadata": {},
   "outputs": [
    {
     "data": {
      "text/plain": [
       "[1, 4, 9, 16, 25]"
      ]
     },
     "execution_count": 10,
     "metadata": {},
     "output_type": "execute_result"
    }
   ],
   "source": [
    "list(map(lambda x:x*x,nums))"
   ]
  },
  {
   "cell_type": "code",
   "execution_count": 1,
   "id": "dbe23182",
   "metadata": {},
   "outputs": [],
   "source": [
    "from tkinter import *\n",
    "\n",
    "root = Tk()\n",
    "root.title(\"Hello World!\")\n",
    "\n",
    "# Create toppings function\n",
    "def toppings():\n",
    "\tif v.get() == \"pepperoni\":\n",
    "\t\tmy_label = Label(root, text=\"You ordered pepperoni\")\t\n",
    "\telse:\n",
    "\t\tmy_label = Label(root, text=\"You don't want pepperoni\")\n",
    "\t\n",
    "\t#my_label = Label(root, text=v.get())\n",
    "\tmy_label.pack(pady=10)\n",
    "\n",
    "# Check Boxes\n",
    "v = StringVar()\n",
    "\n",
    "my_check = Checkbutton(root, text=\"Pepperoni\", variable=v, onvalue=\"pepperoni\", offvalue=\"no_pepperoni\")\n",
    "my_check.deselect()\n",
    "my_check.pack()\n",
    "\n",
    "my_button = Button(root, text=\"Select Toppings\", command=toppings).pack(pady=10)\n",
    "\n",
    "\n",
    "root.mainloop()"
   ]
  },
  {
   "cell_type": "code",
   "execution_count": 2,
   "id": "287ff19c",
   "metadata": {},
   "outputs": [
    {
     "name": "stdout",
     "output_type": "stream",
     "text": [
      "value is two\n"
     ]
    }
   ],
   "source": [
    "from tkinter import * \n",
    "\"\"\"\n",
    "root = Tk() \n",
    "root.geometry(\"300x200\")  \n",
    "w = Label(root, text ='CodeVidhya', font = \"50\")  \n",
    "w.pack() \n",
    "Checkbutton1 = IntVar()   \n",
    "Checkbutton2 = IntVar()   \n",
    "Checkbutton3 = IntVar() \n",
    "Button1 = Checkbutton(root, text = \"Tutorial\", variable = Checkbutton1, \n",
    "                      onvalue = 1,  offvalue = 0,height = 2, \n",
    "                      width = 10) \n",
    "Button2 = Checkbutton(root, text = \"Student\", variable = Checkbutton2, \n",
    "                      onvalue = 1, offvalue = 0, height = 2, \n",
    "                      width = 10) \n",
    "Button3 = Checkbutton(root, text = \"Courses\", variable = Checkbutton3, \n",
    "                      onvalue = 1, offvalue = 0, height = 2, \n",
    "                      width = 10)   \n",
    "Button1.pack()   \n",
    "Button2.pack()   \n",
    "Button3.pack() \n",
    "  \n",
    "mainloop()  \n",
    "\"\"\"\n",
    "# Part 2 OPtion menu\n",
    "master = Tk()\n",
    "\n",
    "var = StringVar(master)\n",
    "var.set(\"one\") # initial value\n",
    "\n",
    "option = OptionMenu(master, var, \"one\", \"two\", \"three\", \"four\")\n",
    "option.pack()\n",
    "def ok():\n",
    "    print (\"value is\", var.get())\n",
    "    master.quit()\n",
    "\n",
    "button = Button(master, text=\"OK\", command=ok)\n",
    "button.pack()\n",
    "\n",
    "mainloop()"
   ]
  },
  {
   "cell_type": "code",
   "execution_count": null,
   "id": "11af6869",
   "metadata": {},
   "outputs": [],
   "source": []
  }
 ],
 "metadata": {
  "kernelspec": {
   "display_name": "Python 3 (ipykernel)",
   "language": "python",
   "name": "python3"
  },
  "language_info": {
   "codemirror_mode": {
    "name": "ipython",
    "version": 3
   },
   "file_extension": ".py",
   "mimetype": "text/x-python",
   "name": "python",
   "nbconvert_exporter": "python",
   "pygments_lexer": "ipython3",
   "version": "3.9.7"
  }
 },
 "nbformat": 4,
 "nbformat_minor": 5
}
