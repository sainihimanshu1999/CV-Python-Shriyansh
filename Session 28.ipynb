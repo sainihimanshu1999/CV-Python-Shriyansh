{
 "cells": [
  {
   "cell_type": "code",
   "execution_count": 1,
   "id": "9ef108f6",
   "metadata": {},
   "outputs": [],
   "source": [
    "import sqlite3\n",
    "from tkinter import *"
   ]
  },
  {
   "cell_type": "code",
   "execution_count": 2,
   "id": "e3104e9d",
   "metadata": {},
   "outputs": [],
   "source": [
    "# connect to the database\n",
    "connection = sqlite3.connect('myTable.db')"
   ]
  },
  {
   "cell_type": "code",
   "execution_count": 3,
   "id": "d397c9cd",
   "metadata": {},
   "outputs": [],
   "source": [
    "#cursor\n",
    "crsr = connection.cursor()"
   ]
  },
  {
   "cell_type": "code",
   "execution_count": 4,
   "id": "e15898af",
   "metadata": {},
   "outputs": [],
   "source": [
    "sql_command = \"\"\"CREATE TABLE emp(\n",
    "staff_number INTEGER PRIMARY KEY,\n",
    "fname VARCHAR(20),\n",
    "lname VARCHAR(20),\n",
    "gender text,\n",
    "joining text);\"\"\""
   ]
  },
  {
   "cell_type": "code",
   "execution_count": 5,
   "id": "1f0efc3d",
   "metadata": {},
   "outputs": [
    {
     "ename": "OperationalError",
     "evalue": "table emp already exists",
     "output_type": "error",
     "traceback": [
      "\u001b[0;31m---------------------------------------------------------------------------\u001b[0m",
      "\u001b[0;31mOperationalError\u001b[0m                          Traceback (most recent call last)",
      "\u001b[0;32m/tmp/ipykernel_9289/2353988972.py\u001b[0m in \u001b[0;36m<module>\u001b[0;34m\u001b[0m\n\u001b[1;32m      1\u001b[0m \u001b[0;31m# executing command\u001b[0m\u001b[0;34m\u001b[0m\u001b[0;34m\u001b[0m\u001b[0m\n\u001b[0;32m----> 2\u001b[0;31m \u001b[0mcrsr\u001b[0m\u001b[0;34m.\u001b[0m\u001b[0mexecute\u001b[0m\u001b[0;34m(\u001b[0m\u001b[0msql_command\u001b[0m\u001b[0;34m)\u001b[0m\u001b[0;34m\u001b[0m\u001b[0;34m\u001b[0m\u001b[0m\n\u001b[0m",
      "\u001b[0;31mOperationalError\u001b[0m: table emp already exists"
     ]
    }
   ],
   "source": [
    "# executing command\n",
    "crsr.execute(sql_command)"
   ]
  },
  {
   "cell_type": "code",
   "execution_count": 6,
   "id": "6cde65e4",
   "metadata": {},
   "outputs": [],
   "source": [
    "# insert data into this table\n",
    "sql_command = \"\"\"INSERT INTO emp VALUES(19,'Shriyansh','Singh','M','21-01-2009')\"\"\""
   ]
  },
  {
   "cell_type": "code",
   "execution_count": 7,
   "id": "605b8c27",
   "metadata": {},
   "outputs": [
    {
     "data": {
      "text/plain": [
       "<sqlite3.Cursor at 0x7f960c546420>"
      ]
     },
     "execution_count": 7,
     "metadata": {},
     "output_type": "execute_result"
    }
   ],
   "source": [
    "crsr.execute(sql_command)"
   ]
  },
  {
   "cell_type": "code",
   "execution_count": 8,
   "id": "710a65d9",
   "metadata": {},
   "outputs": [],
   "source": [
    "# insert data into this table\n",
    "sql_command = \"\"\"INSERT INTO emp VALUES(27,'Himanshu','Saini','M','25-12-1999')\"\"\""
   ]
  },
  {
   "cell_type": "code",
   "execution_count": 9,
   "id": "079e5d5a",
   "metadata": {},
   "outputs": [
    {
     "data": {
      "text/plain": [
       "<sqlite3.Cursor at 0x7f960c546420>"
      ]
     },
     "execution_count": 9,
     "metadata": {},
     "output_type": "execute_result"
    }
   ],
   "source": [
    "crsr.execute(sql_command)"
   ]
  },
  {
   "cell_type": "code",
   "execution_count": 10,
   "id": "6ec6e986",
   "metadata": {},
   "outputs": [],
   "source": [
    "# commiting\n",
    "connection.commit()"
   ]
  },
  {
   "cell_type": "code",
   "execution_count": 11,
   "id": "df7836ff",
   "metadata": {},
   "outputs": [],
   "source": [
    "connection.close()"
   ]
  },
  {
   "cell_type": "code",
   "execution_count": null,
   "id": "6ec6e48e",
   "metadata": {},
   "outputs": [],
   "source": [
    "#gui for adding the values into our database"
   ]
  },
  {
   "cell_type": "code",
   "execution_count": 12,
   "id": "4f5040da",
   "metadata": {},
   "outputs": [],
   "source": [
    "def Submit():\n",
    "    # connecting to the database  \n",
    "    connection = sqlite3.connect(\"myTable.db\") \n",
    "    # cursor  \n",
    "    crsr = connection.cursor() \n",
    "    # Insert Into Table\n",
    "    crsr.execute(\"INSERT INTO emp VALUES (:Staffno,  :f_name , :l_name , :Gender , :DOJi)\",\n",
    "        {\n",
    "            'Staffno' : Staffno.get(),\n",
    "            'f_name' : f_name.get(),\n",
    "            'l_name' : l_name.get(),\n",
    "            'Gender' : Gender.get(),\n",
    "            'DOJi' : DOJi.get()\n",
    "        }\n",
    "    )\n",
    "    connection.commit() # Commit all the changes to the database\n",
    "    connection.close() \n",
    "    # Clear the Text Boxes\n",
    "    Staffno.delete(0 ,END)\n",
    "    f_name.delete(0 ,END)\n",
    "    l_name.delete(0 ,END)\n",
    "    Gender.delete(0 ,END)\n",
    "    DOJi.delete(0 ,END)\n",
    "    \n",
    "    \n",
    "    "
   ]
  },
  {
   "cell_type": "code",
   "execution_count": null,
   "id": "3978d09d",
   "metadata": {},
   "outputs": [],
   "source": [
    "# to get thing from darabase, To query from database"
   ]
  },
  {
   "cell_type": "code",
   "execution_count": 19,
   "id": "73a3f6de",
   "metadata": {},
   "outputs": [
    {
     "ename": "SyntaxError",
     "evalue": "invalid syntax (1238937318.py, line 19)",
     "output_type": "error",
     "traceback": [
      "\u001b[0;36m  File \u001b[0;32m\"/tmp/ipykernel_9289/1238937318.py\"\u001b[0;36m, line \u001b[0;32m19\u001b[0m\n\u001b[0;31m    records += record[1] +\" \" +record[2] + \" \"+record[3]'\\n'\u001b[0m\n\u001b[0m                                                        ^\u001b[0m\n\u001b[0;31mSyntaxError\u001b[0m\u001b[0;31m:\u001b[0m invalid syntax\n"
     ]
    }
   ],
   "source": [
    "def Query():\n",
    "    # connecting to the database  \n",
    "    connection = sqlite3.connect(\"myTable.db\") \n",
    "    # cursor  \n",
    "    crsr = connection.cursor() \n",
    "    # Insert Into Table\n",
    "    crsr.execute(\"SELECT *,oid FROM emp\")  \n",
    "    # store all the fetched data in the ans variable \n",
    "    ans = crsr.fetchall()  \n",
    "    # Since we have already selected all the data entries  \n",
    "    # using the \"SELECT *\" SQL command and stored them in  \n",
    "    # the ans variable, all we need to do now is to print  \n",
    "    # out the ans variable \n",
    "    # As we want to display the dataframe in our GUI we can use label widget\n",
    "    # ans is a list and for example we want to find the names of all the \n",
    "    # People in datatable we can use the following command\n",
    "    records =\"\"\n",
    "    for record in ans:\n",
    "        records += record[1] +\" \" +record[2] + \" \"+record[3]'\\n'\n",
    "    Label(root , text = records).grid(row = 7 ,column = 0 , columnspan = 2)\n",
    "    \n"
   ]
  },
  {
   "cell_type": "code",
   "execution_count": 20,
   "id": "bbe75813",
   "metadata": {},
   "outputs": [],
   "source": [
    "root = Tk()\n",
    "\n",
    "# Create Text Boxes\n",
    "Staffno = Entry(root , width = 30)\n",
    "Staffno.grid(row = 0 ,column = 1, padx = 20)\n",
    "\n",
    "f_name = Entry(root , width = 30)\n",
    "f_name.grid(row = 1 ,column = 1, padx = 20)\n",
    "\n",
    "l_name = Entry(root , width = 30)\n",
    "l_name.grid(row = 2 ,column = 1, padx = 20)\n",
    "\n",
    "Gender = Entry(root , width = 30)\n",
    "Gender.grid(row = 3 ,column = 1, padx = 20)\n",
    "\n",
    "DOJi = Entry(root , width = 30)\n",
    "DOJi.grid(row = 4 ,column = 1, padx = 20)\n",
    "\n",
    "# Create text box labels\n",
    "Staffno_label = Label(root, text = \"Staff Number\") \n",
    "Staffno_label.grid(row = 0 , column =0)\n",
    "\n",
    "f_name_label = Label(root, text = \"First Name\") \n",
    "f_name_label.grid(row = 1 , column =0)\n",
    "\n",
    "l_name_label = Label(root, text = \"Last Name\") \n",
    "l_name_label.grid(row = 2 , column =0)\n",
    "\n",
    "Gender_label = Label(root, text = \"Gender\") \n",
    "Gender_label.grid(row = 3 , column =0)\n",
    "\n",
    "DOJi_label = Label(root, text = \"Date of Joining\") \n",
    "DOJi_label.grid(row = 4 , column =0)\n",
    "\n",
    "# Create a submit button\n",
    "Button(root , text = \"Add record to data base\" , command= Submit).grid(row = 5 , columnspan = 2 , pady=10 , padx = 20 , ipadx = 100 )\n",
    "Button(root , text = \"Query the database\" , command= Query).grid(row = 6 , columnspan = 2 , pady=10 , padx = 20 , ipadx = 100 )"
   ]
  },
  {
   "cell_type": "code",
   "execution_count": 21,
   "id": "7bb50caa",
   "metadata": {},
   "outputs": [],
   "source": [
    "root.mainloop()"
   ]
  },
  {
   "cell_type": "code",
   "execution_count": null,
   "id": "d4590ff5",
   "metadata": {},
   "outputs": [],
   "source": []
  }
 ],
 "metadata": {
  "kernelspec": {
   "display_name": "Python 3 (ipykernel)",
   "language": "python",
   "name": "python3"
  },
  "language_info": {
   "codemirror_mode": {
    "name": "ipython",
    "version": 3
   },
   "file_extension": ".py",
   "mimetype": "text/x-python",
   "name": "python",
   "nbconvert_exporter": "python",
   "pygments_lexer": "ipython3",
   "version": "3.9.7"
  }
 },
 "nbformat": 4,
 "nbformat_minor": 5
}
