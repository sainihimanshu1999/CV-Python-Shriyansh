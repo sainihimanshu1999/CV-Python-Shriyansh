{
 "cells": [
  {
   "cell_type": "code",
   "execution_count": 21,
   "id": "95f01b8f",
   "metadata": {},
   "outputs": [],
   "source": [
    "from tkinter import *"
   ]
  },
  {
   "cell_type": "code",
   "execution_count": 22,
   "id": "8a958005",
   "metadata": {},
   "outputs": [],
   "source": [
    "root = Tk()\n",
    "root.geometry('300x200')\n",
    "w = Label(root, text='Shriyansh', font='50')\n",
    "\n",
    "w.pack()"
   ]
  },
  {
   "cell_type": "code",
   "execution_count": 23,
   "id": "e3cff827",
   "metadata": {},
   "outputs": [],
   "source": [
    "Checkbutton1 = IntVar()\n",
    "Checkbutton2 = IntVar()\n",
    "Checkbutton3 = IntVar()\n"
   ]
  },
  {
   "cell_type": "code",
   "execution_count": 24,
   "id": "42cf5dd8",
   "metadata": {},
   "outputs": [],
   "source": [
    "Button1 = Checkbutton(root, text='Pizza', variable=Checkbutton1, onvalue = 1, offvalue = 0, height=2, width = 10)\n",
    "Button2 = Checkbutton(root, text='Ice cream', variable=Checkbutton2, onvalue = 1, offvalue = 0, height=2, width = 10)\n",
    "Button3 = Checkbutton(root, text='Eucledian', variable=Checkbutton3, onvalue = 1, offvalue = 0, height=2, width = 10)"
   ]
  },
  {
   "cell_type": "code",
   "execution_count": 25,
   "id": "ad7f642a",
   "metadata": {},
   "outputs": [],
   "source": [
    "Button1.pack()\n",
    "Button2.pack()\n",
    "Button3.pack()"
   ]
  },
  {
   "cell_type": "code",
   "execution_count": 26,
   "id": "e6955f7e",
   "metadata": {},
   "outputs": [],
   "source": [
    "mainloop()"
   ]
  },
  {
   "cell_type": "code",
   "execution_count": 27,
   "id": "b1c75953",
   "metadata": {},
   "outputs": [],
   "source": [
    "### Option menu in Tkinter "
   ]
  },
  {
   "cell_type": "code",
   "execution_count": 28,
   "id": "90c4bec9",
   "metadata": {},
   "outputs": [],
   "source": [
    "master = Tk()"
   ]
  },
  {
   "cell_type": "code",
   "execution_count": 29,
   "id": "8a8587cc",
   "metadata": {},
   "outputs": [],
   "source": [
    "var = StringVar(master)"
   ]
  },
  {
   "cell_type": "code",
   "execution_count": 30,
   "id": "7f34d2d6",
   "metadata": {},
   "outputs": [],
   "source": [
    "var.set('Iron Man')"
   ]
  },
  {
   "cell_type": "code",
   "execution_count": 31,
   "id": "82729ae1",
   "metadata": {},
   "outputs": [],
   "source": [
    "option = OptionMenu(master,var, 'Iron man','Thor','Hulk','Batman')\n",
    "option.pack()"
   ]
  },
  {
   "cell_type": "code",
   "execution_count": 34,
   "id": "536807ee",
   "metadata": {},
   "outputs": [],
   "source": [
    "def ok():\n",
    "    print('Best super hero is batman and if you have chose it then great, else you are on your own', var.get())\n",
    "    master.quit()\n",
    "    \n",
    "button = Button(master, text = 'OK', command = ok)\n",
    "button.pack()\n",
    "\n"
   ]
  },
  {
   "cell_type": "code",
   "execution_count": null,
   "id": "5295d828",
   "metadata": {},
   "outputs": [],
   "source": [
    "mainloop()"
   ]
  },
  {
   "cell_type": "code",
   "execution_count": null,
   "id": "772e0d9e",
   "metadata": {},
   "outputs": [],
   "source": []
  }
 ],
 "metadata": {
  "kernelspec": {
   "display_name": "Python 3 (ipykernel)",
   "language": "python",
   "name": "python3"
  },
  "language_info": {
   "codemirror_mode": {
    "name": "ipython",
    "version": 3
   },
   "file_extension": ".py",
   "mimetype": "text/x-python",
   "name": "python",
   "nbconvert_exporter": "python",
   "pygments_lexer": "ipython3",
   "version": "3.9.7"
  }
 },
 "nbformat": 4,
 "nbformat_minor": 5
}
